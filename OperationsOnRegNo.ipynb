{
 "cells": [
  {
   "cell_type": "code",
   "execution_count": 83,
   "id": "f3dca38e-f020-40a1-8bb6-46ae94323cb9",
   "metadata": {},
   "outputs": [
    {
     "name": "stdin",
     "output_type": "stream",
     "text": [
      "Enter You Register no.: 183cs22x01\n"
     ]
    },
    {
     "name": "stdout",
     "output_type": "stream",
     "text": [
      "College Code: 183\n",
      "College Name: Government Ploytechnic Channasandhra\n",
      "Branch Code: CS\n",
      "Branch Name: Computer Science\n",
      "Admission Year: 2022\n",
      "Roll Number: x01\n",
      "Expected Year of Completing the Diploma:2025\n"
     ]
    }
   ],
   "source": [
    "#Importing csv library enables the use of csv file from local storage\n",
    "import csv\n",
    "# Define a dictionary to map branch codes to their full names\n",
    "branch_dict = {\n",
    "    'CS': 'Computer Science',\n",
    "    'EC': 'Electronics and Communication Engineering',\n",
    "    'ME': 'Mechanical Engineering',\n",
    "    'CE': 'Civil Engineering',\n",
    "     'EE':'Electrics Electronics and Engineering',\n",
    "    'TX':'Textile Industry',\n",
    "    'CR':'Ceramics Engineering'\n",
    "}\n",
    "\n",
    "# Function to read college codes and names from a CSV file\n",
    "def load_college_codes(file_path):\n",
    "    college_codes = {}  # Initialize the dictionary here\n",
    "    with open(file_path, mode='r') as file:\n",
    "        reader = csv.DictReader(file)\n",
    "        for row in reader:\n",
    "            college_codes[row['Institute Code']] = row['Institute Name']\n",
    "    \n",
    "    return college_codes\n",
    "\n",
    "# Function to parse and validate roll number\n",
    "def parse_roll_number(roll_number, college_codes):\n",
    "    if len(roll_number) != 10:\n",
    "        return \"Invalid roll number length. Should be 10 characters.\" #Throwing error message when the length of reg no is not 10\n",
    "\n",
    "    # Extract parts\n",
    "    college_code = roll_number[:3]\n",
    "    branch_code = roll_number[3:5].upper()\n",
    "    admission_year = roll_number[5:7]\n",
    "    roll_num = roll_number[7:]\n",
    "\n",
    "    # Validation or Responding to the mistakes can be made by the User\n",
    "    if not college_code.isdigit():\n",
    "        return \"Invalid college code. Should be an integer.\"\n",
    "    if branch_code not in branch_dict:\n",
    "        return \"Invalid branch code. Should be one of the predefined codes.\"\n",
    "    if not admission_year.isdigit():\n",
    "        return \"Invalid admission year. Should be an integer.\"\n",
    "    if not roll_num.isalnum():\n",
    "        return \"Invalid roll number. Should be alphanumeric.\"\n",
    "\n",
    "    # Retrieve full names of college and branch through their indexes using get() function\n",
    "    college_name = college_codes.get(college_code, \"Unknown College Code\")\n",
    "    branch_name = branch_dict.get(branch_code, \"Unknown Branch\")\n",
    "    full_admission_year = '20' + admission_year\n",
    "    convert=int(admission_year)\n",
    "    year_passing='20'+str(convert+3)\n",
    "\n",
    "    #Converting the Outcomes to dictionary\n",
    "    return {\n",
    "        \"College Code\": college_code,\n",
    "        \"College Name\": college_name,\n",
    "        \"Branch Code\": branch_code,\n",
    "        \"Branch Name\": branch_name,\n",
    "        \"Admission Year\": full_admission_year,\n",
    "        \"Roll Number\": roll_num,\n",
    "        'Year Of Passing':year_passing\n",
    "    }\n",
    "\n",
    "# Load college codes from the CSV file\n",
    "college_codes = load_college_codes('C:/Users/91861/Desktop/institutes_data.csv')\n",
    "\n",
    "#Performing or testing the code base\n",
    "roll_number = input('Enter You Register no.:')\n",
    "#Using Method We declared before\n",
    "result = parse_roll_number(roll_number, college_codes)\n",
    "\n",
    "#Creation of instance of result variable into dictionary container\n",
    "if isinstance(result, dict):\n",
    "    print(f\"College Code: {result['College Code']}\")\n",
    "    print(f\"College Name: {result['College Name']}\")\n",
    "    print(f\"Branch Code: {result['Branch Code']}\")\n",
    "    print(f\"Branch Name: {result['Branch Name']}\")\n",
    "    print(f\"Admission Year: {result['Admission Year']}\")\n",
    "    print(f\"Roll Number: {result['Roll Number']}\")\n",
    "    print(f'Expected Year of Completing the Diploma:{result['Year Of Passing']}')\n",
    "#Printing Error When All the Parameters Are not satisfied\n",
    "else:\n",
    "    print(result)  \n"
   ]
  },
  {
   "cell_type": "code",
   "execution_count": null,
   "id": "11afc72b-061d-4a63-a3ca-df79933d4ff9",
   "metadata": {},
   "outputs": [],
   "source": []
  }
 ],
 "metadata": {
  "kernelspec": {
   "display_name": "Python 3 (ipykernel)",
   "language": "python",
   "name": "python3"
  },
  "language_info": {
   "codemirror_mode": {
    "name": "ipython",
    "version": 3
   },
   "file_extension": ".py",
   "mimetype": "text/x-python",
   "name": "python",
   "nbconvert_exporter": "python",
   "pygments_lexer": "ipython3",
   "version": "3.12.4"
  }
 },
 "nbformat": 4,
 "nbformat_minor": 5
}
