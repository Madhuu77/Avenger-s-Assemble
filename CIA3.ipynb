{
 "cells": [
  {
   "cell_type": "markdown",
   "id": "38b9e630-2cef-4114-93db-edb1826cac2f",
   "metadata": {},
   "source": [
    "Build a data set and predict the heart disease based on BP, Sugar, Age, Gender and Cholesterol by using relevant operations"
   ]
  },
  {
   "cell_type": "code",
   "execution_count": 1,
   "id": "196fa256-7540-453c-ab86-8f413f0edee9",
   "metadata": {},
   "outputs": [
    {
     "name": "stdout",
     "output_type": "stream",
     "text": [
      "   Age  Gender   BP  Sugar  Cholesterol  HeartDisease\n",
      "0   67    Male  144      1          161             0\n",
      "1   57  Female  101      1          194             0\n",
      "2   43    Male  169      1          239             1\n",
      "3   71  Female  161      0          252             1\n",
      "4   36    Male  129      0          157             1\n"
     ]
    }
   ],
   "source": [
    "import pandas as pd\n",
    "import numpy as np\n",
    "\n",
    "# Set random seed for reproducibility\n",
    "np.random.seed(42)\n",
    "\n",
    "# Number of samples\n",
    "n_samples = 1000\n",
    "\n",
    "# Generate synthetic data\n",
    "data = {\n",
    "    'Age': np.random.randint(29, 77, n_samples),\n",
    "    'Gender': np.random.choice(['Male', 'Female'], n_samples),\n",
    "    'BP': np.random.randint(80, 180, n_samples),   # Blood Pressure\n",
    "    'Sugar': np.random.choice([0, 1], n_samples),  # 0 for normal, 1 for high\n",
    "    'Cholesterol': np.random.randint(150, 300, n_samples),  # Cholesterol level\n",
    "    'HeartDisease': np.random.choice([0, 1], n_samples)  # 0 for no, 1 for yes\n",
    "}\n",
    "\n",
    "# Convert to DataFrame\n",
    "df = pd.DataFrame(data)\n",
    "\n",
    "# Display the first few rows\n",
    "print(df.head())\n"
   ]
  },
  {
   "cell_type": "code",
   "execution_count": 16,
   "id": "4269777c-06de-4296-aadb-97fbc84a974f",
   "metadata": {},
   "outputs": [],
   "source": [
    "from sklearn.model_selection import train_test_split\n",
    "from sklearn.preprocessing import StandardScaler, LabelEncoder\n",
    "\n",
    "# Encode the 'Gender' column\n",
    "df['Gender'] = LabelEncoder().fit_transform(df['Gender'])  #Male=1, Female=0\n",
    "\n",
    "# Features (X) and target (y)\n",
    "X = df[['Age', 'Gender', 'BP', 'Sugar', 'Cholesterol']]\n",
    "y = df['HeartDisease']\n",
    "\n",
    "# Split the data into training and testing sets\n",
    "X_train, X_test, y_train, y_test = train_test_split(X, y, test_size=0.2, random_state=42)\n",
    "\n",
    "# Feature Scaling\n",
    "scaler = StandardScaler()\n",
    "X_train = scaler.fit_transform(X_train)\n",
    "X_test = scaler.transform(X_test)\n"
   ]
  },
  {
   "cell_type": "code",
   "execution_count": 6,
   "id": "e8edceff-31cb-49f3-9ddc-79fda88afc16",
   "metadata": {},
   "outputs": [],
   "source": [
    "from sklearn.linear_model import LogisticRegression\n",
    "from sklearn.metrics import classification_report, confusion_matrix, accuracy_score\n",
    "\n",
    "# Build the model\n",
    "model = LogisticRegression(random_state=42)\n",
    "model.fit(X_train, y_train)\n",
    "\n",
    "# Make predictions\n",
    "y_pred = model.predict(X_test)\n"
   ]
  },
  {
   "cell_type": "code",
   "execution_count": 8,
   "id": "c8fdb899-c491-4c65-b502-4074ff54cac4",
   "metadata": {},
   "outputs": [
    {
     "name": "stdout",
     "output_type": "stream",
     "text": [
      "Confusion Matrix:\n",
      " [[56 44]\n",
      " [52 48]]\n",
      "Classification Report:\n",
      "               precision    recall  f1-score   support\n",
      "\n",
      "           0       0.52      0.56      0.54       100\n",
      "           1       0.52      0.48      0.50       100\n",
      "\n",
      "    accuracy                           0.52       200\n",
      "   macro avg       0.52      0.52      0.52       200\n",
      "weighted avg       0.52      0.52      0.52       200\n",
      "\n",
      "Accuracy: 52.00%\n"
     ]
    }
   ],
   "source": [
    "# Confusion Matrix\n",
    "print(\"Confusion Matrix:\\n\", confusion_matrix(y_test, y_pred))\n",
    "\n",
    "# Classification Report\n",
    "print(\"Classification Report:\\n\", classification_report(y_test, y_pred))\n",
    "\n",
    "# Accuracy Score\n",
    "accuracy = accuracy_score(y_test, y_pred)\n",
    "print(\"Accuracy: {:.2f}%\".format(accuracy * 100))\n"
   ]
  },
  {
   "cell_type": "markdown",
   "id": "60865ecb-9970-4632-b077-c3d8ec86abf1",
   "metadata": {},
   "source": [
    "Given a dataset perform comparative analysis using decision tree and SVM algorithm and check accuracy."
   ]
  },
  {
   "cell_type": "code",
   "execution_count": 23,
   "id": "43209f2b-b4a4-450b-80db-247ce865a0d6",
   "metadata": {},
   "outputs": [
    {
     "name": "stdout",
     "output_type": "stream",
     "text": [
      "     Age  Gender   BP  Sugar  Cholesterol  HeartDisease\n",
      "0     67    Male  144      1          161             0\n",
      "1     57  Female  101      1          194             0\n",
      "2     43    Male  169      1          239             1\n",
      "3     71  Female  161      0          252             1\n",
      "4     36    Male  129      0          157             1\n",
      "..   ...     ...  ...    ...          ...           ...\n",
      "995   34  Female  158      1          256             0\n",
      "996   54  Female  129      1          203             1\n",
      "997   32    Male  146      0          237             0\n",
      "998   47  Female  128      0          217             0\n",
      "999   48  Female  115      0          278             1\n",
      "\n",
      "[1000 rows x 6 columns]\n"
     ]
    }
   ],
   "source": [
    "import pandas as pd\n",
    "import numpy as np\n",
    "from sklearn.model_selection import train_test_split\n",
    "from sklearn.preprocessing import StandardScaler, LabelEncoder\n",
    "from sklearn.metrics import accuracy_score\n",
    "from sklearn.tree import DecisionTreeClassifier\n",
    "from sklearn.svm import SVC\n",
    "\n",
    "# Generate a synthetic dataset\n",
    "np.random.seed(42)\n",
    "n_samples = 1000\n",
    "data = {\n",
    "    'Age': np.random.randint(29, 77, n_samples),\n",
    "    'Gender': np.random.choice(['Male', 'Female'], n_samples),\n",
    "    'BP': np.random.randint(80, 180, n_samples),\n",
    "    'Sugar': np.random.choice([0, 1], n_samples),\n",
    "    'Cholesterol': np.random.randint(150, 300, n_samples),\n",
    "    'HeartDisease': np.random.choice([0, 1], n_samples)\n",
    "}\n",
    "\n",
    "# Convert to DataFrame\n",
    "df = pd.DataFrame(data)\n",
    "print(df)\n",
    "\n",
    "# Encode the 'Gender' column\n",
    "df['Gender'] = LabelEncoder().fit_transform(df['Gender'])\n",
    "\n",
    "# Features (X) and target (y)\n",
    "X = df[['Age', 'Gender', 'BP', 'Sugar', 'Cholesterol']]\n",
    "y = df['HeartDisease']\n",
    "\n",
    "# Split the dataset into training and testing sets\n",
    "X_train, X_test, y_train, y_test = train_test_split(X, y, test_size=0.2, random_state=42)\n",
    "\n",
    "# Feature Scaling\n",
    "scaler = StandardScaler()\n",
    "X_train = scaler.fit_transform(X_train)\n",
    "X_test = scaler.transform(X_test)\n"
   ]
  },
  {
   "cell_type": "code",
   "execution_count": 25,
   "id": "59e33675-067a-4468-8715-bc8d4fa22909",
   "metadata": {},
   "outputs": [
    {
     "name": "stdout",
     "output_type": "stream",
     "text": [
      "Decision Tree Accuracy: 0.47\n"
     ]
    }
   ],
   "source": [
    "# Train a Decision Tree model\n",
    "dt_model = DecisionTreeClassifier(random_state=42)\n",
    "dt_model.fit(X_train, y_train)\n",
    "\n",
    "# Predict using the Decision Tree model\n",
    "y_pred_dt = dt_model.predict(X_test)\n",
    "\n",
    "# Evaluate the Decision Tree model\n",
    "accuracy_dt = accuracy_score(y_test, y_pred_dt)\n",
    "print(f\"Decision Tree Accuracy: {accuracy_dt:.2f}\")\n"
   ]
  },
  {
   "cell_type": "code",
   "execution_count": 27,
   "id": "57ce21ed-ad83-494a-95dc-8494724bb7ab",
   "metadata": {},
   "outputs": [
    {
     "name": "stdout",
     "output_type": "stream",
     "text": [
      "SVM Accuracy: 0.49\n"
     ]
    }
   ],
   "source": [
    "# Train an SVM model\n",
    "svm_model = SVC(random_state=42)\n",
    "svm_model.fit(X_train, y_train)\n",
    "\n",
    "# Predict using the SVM model\n",
    "y_pred_svm = svm_model.predict(X_test)\n",
    "\n",
    "# Evaluate the SVM model\n",
    "accuracy_svm = accuracy_score(y_test, y_pred_svm)\n",
    "print(f\"SVM Accuracy: {accuracy_svm:.2f}\")\n"
   ]
  },
  {
   "cell_type": "code",
   "execution_count": 29,
   "id": "20eeebce-f4e1-4cb2-91b4-db57de150a40",
   "metadata": {},
   "outputs": [
    {
     "name": "stdout",
     "output_type": "stream",
     "text": [
      "Decision Tree Accuracy: 0.47\n",
      "SVM Accuracy: 0.49\n",
      "The SVM model performs better.\n"
     ]
    }
   ],
   "source": [
    "print(f\"Decision Tree Accuracy: {accuracy_dt:.2f}\")\n",
    "print(f\"SVM Accuracy: {accuracy_svm:.2f}\")\n",
    "\n",
    "# Conclusion\n",
    "if accuracy_dt > accuracy_svm:\n",
    "    print(\"The Decision Tree model performs better.\")\n",
    "elif accuracy_svm > accuracy_dt:\n",
    "    print(\"The SVM model performs better.\")\n",
    "else:\n",
    "    print(\"Both models have the same accuracy.\")\n"
   ]
  },
  {
   "cell_type": "markdown",
   "id": "318bf60a-53d4-4e8d-9f45-6bcd9454eadd",
   "metadata": {},
   "source": [
    "Create a model to analyze the relation between CIE and SEE result. Build Linear regression Model using Stats model, Scikit Learn"
   ]
  },
  {
   "cell_type": "code",
   "execution_count": 32,
   "id": "9cf6a883-f0f6-40d6-b928-9746cc5b7863",
   "metadata": {},
   "outputs": [
    {
     "name": "stdout",
     "output_type": "stream",
     "text": [
      "   CIE        SEE\n",
      "0   26  55.491995\n",
      "1   39  77.141856\n",
      "2   48  91.464067\n",
      "3   34  73.943129\n",
      "4   30  63.927661\n"
     ]
    }
   ],
   "source": [
    "import pandas as pd\n",
    "import numpy as np\n",
    "import statsmodels.api as sm\n",
    "from sklearn.model_selection import train_test_split\n",
    "from sklearn.linear_model import LinearRegression\n",
    "from sklearn.metrics import mean_squared_error, r2_score\n",
    "import matplotlib.pyplot as plt\n",
    "# Create a synthetic dataset\n",
    "np.random.seed(42)\n",
    "n_samples = 100\n",
    "\n",
    "# CIE scores (out of 50)\n",
    "cie_scores = np.random.randint(20, 50, n_samples)\n",
    "\n",
    "# SEE scores (out of 100), with some random noise added\n",
    "see_scores = cie_scores * 2 + np.random.normal(0, 5, n_samples)\n",
    "\n",
    "# Convert to DataFrame\n",
    "df = pd.DataFrame({\n",
    "    'CIE': cie_scores,\n",
    "    'SEE': see_scores\n",
    "})\n",
    "\n",
    "# Display the first few rows\n",
    "print(df.head())\n"
   ]
  },
  {
   "cell_type": "code",
   "execution_count": 34,
   "id": "95b42de8-27c0-45e7-b120-19ca76a3faf1",
   "metadata": {},
   "outputs": [
    {
     "name": "stdout",
     "output_type": "stream",
     "text": [
      "                            OLS Regression Results                            \n",
      "==============================================================================\n",
      "Dep. Variable:                    SEE   R-squared:                       0.933\n",
      "Model:                            OLS   Adj. R-squared:                  0.932\n",
      "Method:                 Least Squares   F-statistic:                     1360.\n",
      "Date:                Mon, 19 Aug 2024   Prob (F-statistic):           2.89e-59\n",
      "Time:                        19:35:48   Log-Likelihood:                -300.82\n",
      "No. Observations:                 100   AIC:                             605.6\n",
      "Df Residuals:                      98   BIC:                             610.8\n",
      "Df Model:                           1                                         \n",
      "Covariance Type:            nonrobust                                         \n",
      "==============================================================================\n",
      "                 coef    std err          t      P>|t|      [0.025      0.975]\n",
      "------------------------------------------------------------------------------\n",
      "const         -1.0038      2.024     -0.496      0.621      -5.020       3.012\n",
      "CIE            2.0311      0.055     36.883      0.000       1.922       2.140\n",
      "==============================================================================\n",
      "Omnibus:                        0.003   Durbin-Watson:                   2.053\n",
      "Prob(Omnibus):                  0.999   Jarque-Bera (JB):                0.102\n",
      "Skew:                          -0.005   Prob(JB):                        0.950\n",
      "Kurtosis:                       2.844   Cond. No.                         150.\n",
      "==============================================================================\n",
      "\n",
      "Notes:\n",
      "[1] Standard Errors assume that the covariance matrix of the errors is correctly specified.\n"
     ]
    }
   ],
   "source": [
    "# Define the dependent (Y) and independent (X) variables\n",
    "X = df['CIE']\n",
    "y = df['SEE']\n",
    "\n",
    "# Add a constant to the independent variable (required for statsmodels)\n",
    "X_sm = sm.add_constant(X)\n",
    "\n",
    "# Build the model\n",
    "model_sm = sm.OLS(y, X_sm).fit()\n",
    "\n",
    "# Print the summary of the model\n",
    "print(model_sm.summary())\n"
   ]
  },
  {
   "cell_type": "code",
   "execution_count": 36,
   "id": "8d856368-ec60-4cda-9aa0-b1faaff1c576",
   "metadata": {},
   "outputs": [
    {
     "name": "stdout",
     "output_type": "stream",
     "text": [
      "Mean Squared Error: 23.44\n",
      "R^2 Score: 0.92\n"
     ]
    }
   ],
   "source": [
    "# Reshape X for scikit-learn\n",
    "X_sk = X.values.reshape(-1, 1)\n",
    "y_sk = y.values\n",
    "\n",
    "# Split the data into training and testing sets\n",
    "X_train, X_test, y_train, y_test = train_test_split(X_sk, y_sk, test_size=0.2, random_state=42)\n",
    "\n",
    "# Create and train the model\n",
    "model_sk = LinearRegression()\n",
    "model_sk.fit(X_train, y_train)\n",
    "\n",
    "# Make predictions\n",
    "y_pred_sk = model_sk.predict(X_test)\n",
    "\n",
    "# Calculate performance metrics\n",
    "mse = mean_squared_error(y_test, y_pred_sk)\n",
    "r2 = r2_score(y_test, y_pred_sk)\n",
    "\n",
    "print(f\"Mean Squared Error: {mse:.2f}\")\n",
    "print(f\"R^2 Score: {r2:.2f}\")\n"
   ]
  },
  {
   "cell_type": "code",
   "execution_count": 40,
   "id": "b78bb8bb-7154-4e04-816b-40edcae21f2b",
   "metadata": {},
   "outputs": [
    {
     "name": "stdout",
     "output_type": "stream",
     "text": [
      "Statsmodels Coefficients:\n",
      "const   -1.003806\n",
      "CIE      2.031118\n",
      "dtype: float64\n",
      "Scikit-learn Coefficients:\n",
      "Intercept: -2.014039746691978, Coefficient: 2.058097037662593\n"
     ]
    },
    {
     "data": {
      "image/png": "[encoded data removed]",
      "text/plain": [
       "<Figure size 640x480 with 1 Axes>"
      ]
     },
     "metadata": {},
     "output_type": "display_data"
    }
   ],
   "source": [
    "# Print coefficients from both models\n",
    "print(f\"Statsmodels Coefficients:\\n{model_sm.params}\")\n",
    "print(f\"Scikit-learn Coefficients:\\nIntercept: {model_sk.intercept_}, Coefficient: {model_sk.coef_[0]}\")\n",
    "\n",
    "# Plot the original data and the regression line\n",
    "plt.scatter(X, y, color='green', label='Actual data')\n",
    "plt.plot(X, model_sk.predict(X_sk), color='red', label='Regression line (scikit-learn)')\n",
    "plt.xlabel('CIE Score')\n",
    "plt.ylabel('SEE Score')\n",
    "plt.legend()\n",
    "plt.show()\n"
   ]
  },
  {
   "cell_type": "markdown",
   "id": "4d8935aa-f7bc-4723-b9cf-f9c1fb14b7d5",
   "metadata": {},
   "source": [
    "Create a model to analyze the relation between Crop Yield vs Rain Fall rate Build Linear regression Model using Stats model, Scikit Learn"
   ]
  },
  {
   "cell_type": "code",
   "execution_count": 47,
   "id": "4000cb7f-f7a7-42e6-a4eb-c6bcb98fef21",
   "metadata": {},
   "outputs": [
    {
     "name": "stdout",
     "output_type": "stream",
     "text": [
      "     Rainfall   CropYield\n",
      "0  106.181018  213.232506\n",
      "1  192.607146  382.224218\n",
      "2  159.799091  320.515790\n",
      "3  139.798773  259.721856\n",
      "4   73.402796  144.608873\n",
      "      Rainfall   CropYield\n",
      "0   106.181018  213.232506\n",
      "1   192.607146  382.224218\n",
      "2   159.799091  320.515790\n",
      "3   139.798773  259.721856\n",
      "4    73.402796  144.608873\n",
      "..         ...         ...\n",
      "95  124.069339  239.980576\n",
      "96  128.409924  256.048832\n",
      "97  114.131153  231.673825\n",
      "98   53.812869  110.392646\n",
      "99   66.183714  140.639261\n",
      "\n",
      "[100 rows x 2 columns]\n"
     ]
    }
   ],
   "source": [
    "import pandas as pd\n",
    "import numpy as np\n",
    "import statsmodels.api as sm\n",
    "from sklearn.model_selection import train_test_split\n",
    "from sklearn.linear_model import LinearRegression\n",
    "from sklearn.metrics import mean_squared_error, r2_score\n",
    "import matplotlib.pyplot as plt\n",
    "# Create a synthetic dataset\n",
    "np.random.seed(42)\n",
    "n_samples = 100\n",
    "\n",
    "# Rainfall Rate (mm)\n",
    "rainfall_rate = np.random.uniform(50, 200, n_samples)\n",
    "\n",
    "# Crop Yield (kg/ha), with some random noise added\n",
    "crop_yield = 2 * rainfall_rate + np.random.normal(0, 10, n_samples)\n",
    "\n",
    "# Convert to DataFrame\n",
    "df = pd.DataFrame({\n",
    "    'Rainfall': rainfall_rate,\n",
    "    'CropYield': crop_yield\n",
    "})\n",
    "\n",
    "# Display the first few rows\n",
    "print(df.head())\n",
    "print(df)"
   ]
  },
  {
   "cell_type": "code",
   "execution_count": 49,
   "id": "d1d1d21c-d5b7-4f87-bce4-270b6a449192",
   "metadata": {},
   "outputs": [
    {
     "name": "stdout",
     "output_type": "stream",
     "text": [
      "                            OLS Regression Results                            \n",
      "==============================================================================\n",
      "Dep. Variable:              CropYield   R-squared:                       0.990\n",
      "Model:                            OLS   Adj. R-squared:                  0.989\n",
      "Method:                 Least Squares   F-statistic:                     9289.\n",
      "Date:                Mon, 19 Aug 2024   Prob (F-statistic):           6.65e-99\n",
      "Time:                        19:42:30   Log-Likelihood:                -361.41\n",
      "No. Observations:                 100   AIC:                             726.8\n",
      "Df Residuals:                      98   BIC:                             732.0\n",
      "Df Model:                           1                                         \n",
      "Covariance Type:            nonrobust                                         \n",
      "==============================================================================\n",
      "                 coef    std err          t      P>|t|      [0.025      0.975]\n",
      "------------------------------------------------------------------------------\n",
      "const          3.6835      2.625      1.404      0.164      -1.525       8.892\n",
      "Rainfall       1.9693      0.020     96.381      0.000       1.929       2.010\n",
      "==============================================================================\n",
      "Omnibus:                        0.900   Durbin-Watson:                   2.285\n",
      "Prob(Omnibus):                  0.638   Jarque-Bera (JB):                0.808\n",
      "Skew:                           0.217   Prob(JB):                        0.668\n",
      "Kurtosis:                       2.929   Cond. No.                         372.\n",
      "==============================================================================\n",
      "\n",
      "Notes:\n",
      "[1] Standard Errors assume that the covariance matrix of the errors is correctly specified.\n"
     ]
    }
   ],
   "source": [
    "# Define the dependent (Y) and independent (X) variables\n",
    "X = df['Rainfall']\n",
    "y = df['CropYield']\n",
    "\n",
    "# Add a constant to the independent variable (required for statsmodels)\n",
    "X_sm = sm.add_constant(X)\n",
    "\n",
    "# Build the model\n",
    "model_sm = sm.OLS(y, X_sm).fit()\n",
    "\n",
    "# Print the summary of the model\n",
    "print(model_sm.summary())\n"
   ]
  },
  {
   "cell_type": "code",
   "execution_count": 51,
   "id": "e21092b1-5235-4e88-bf7e-0f57a435359d",
   "metadata": {},
   "outputs": [
    {
     "name": "stdout",
     "output_type": "stream",
     "text": [
      "Mean Squared Error: 65.37\n",
      "R^2 Score: 0.99\n"
     ]
    }
   ],
   "source": [
    "# Reshape X for scikit-learn\n",
    "X_sk = X.values.reshape(-1, 1)\n",
    "y_sk = y.values\n",
    "\n",
    "# Split the data into training and testing sets\n",
    "X_train, X_test, y_train, y_test = train_test_split(X_sk, y_sk, test_size=0.2, random_state=42)\n",
    "\n",
    "# Create and train the model\n",
    "model_sk = LinearRegression()\n",
    "model_sk.fit(X_train, y_train)\n",
    "\n",
    "# Make predictions\n",
    "y_pred_sk = model_sk.predict(X_test)\n",
    "\n",
    "# Calculate performance metrics\n",
    "mse = mean_squared_error(y_test, y_pred_sk)\n",
    "r2 = r2_score(y_test, y_pred_sk)\n",
    "\n",
    "print(f\"Mean Squared Error: {mse:.2f}\")\n",
    "print(f\"R^2 Score: {r2:.2f}\")\n"
   ]
  },
  {
   "cell_type": "code",
   "execution_count": 57,
   "id": "a39b2e26-9723-4fa9-89a7-4ab052a1c83a",
   "metadata": {},
   "outputs": [
    {
     "name": "stdout",
     "output_type": "stream",
     "text": [
      "Statsmodels Coefficients:\n",
      "const       3.683539\n",
      "Rainfall    1.969348\n",
      "dtype: float64\n",
      "Scikit-learn Coefficients:\n",
      "Intercept: 2.7669754780505116, Coefficient: 1.9732431543307036\n"
     ]
    },
    {
     "data": {
      "image/png": "[encoded data removed]",
      "text/plain": [
       "<Figure size 640x480 with 1 Axes>"
      ]
     },
     "metadata": {},
     "output_type": "display_data"
    }
   ],
   "source": [
    "# Print coefficients from both models\n",
    "print(f\"Statsmodels Coefficients:\\n{model_sm.params}\")\n",
    "print(f\"Scikit-learn Coefficients:\\nIntercept: {model_sk.intercept_}, Coefficient: {model_sk.coef_[0]}\")\n",
    "\n",
    "# Plot the original data and the regression line\n",
    "plt.scatter(df['Rainfall'], df['CropYield'], color='green', label='Actual data')\n",
    "plt.plot(df['Rainfall'], model_sk.predict(X_sk), color='yellow', label='Regression line (scikit-learn)')\n",
    "plt.xlabel('Rainfall Rate (mm)')\n",
    "plt.ylabel('Crop Yield (kg/ha)')\n",
    "plt.legend()\n",
    "plt.show()\n"
   ]
  },
  {
   "cell_type": "markdown",
   "id": "fee110b5-aad2-4720-a934-0152de8e740d",
   "metadata": {},
   "source": [
    "Perform data exploration, preprocessing and splitting on datasets Boston Housing price from Scikit learn"
   ]
  },
  {
   "cell_type": "code",
   "execution_count": 17,
   "id": "4fbe806a-1a4a-48d9-b076-abd1fc76ad59",
   "metadata": {},
   "outputs": [
    {
     "name": "stdout",
     "output_type": "stream",
     "text": [
      "<class 'pandas.core.frame.DataFrame'>\n",
      "RangeIndex: 20640 entries, 0 to 20639\n",
      "Data columns (total 9 columns):\n",
      " #   Column      Non-Null Count  Dtype  \n",
      "---  ------      --------------  -----  \n",
      " 0   MedInc      20640 non-null  float64\n",
      " 1   HouseAge    20640 non-null  float64\n",
      " 2   AveRooms    20640 non-null  float64\n",
      " 3   AveBedrms   20640 non-null  float64\n",
      " 4   Population  20640 non-null  float64\n",
      " 5   AveOccup    20640 non-null  float64\n",
      " 6   Latitude    20640 non-null  float64\n",
      " 7   Longitude   20640 non-null  float64\n",
      " 8   PRICE       20640 non-null  float64\n",
      "dtypes: float64(9)\n",
      "memory usage: 1.4 MB\n",
      "None\n",
      "   MedInc  HouseAge  AveRooms  AveBedrms  Population  AveOccup  Latitude  \\\n",
      "0  8.3252      41.0  6.984127   1.023810       322.0  2.555556     37.88   \n",
      "1  8.3014      21.0  6.238137   0.971880      2401.0  2.109842     37.86   \n",
      "2  7.2574      52.0  8.288136   1.073446       496.0  2.802260     37.85   \n",
      "3  5.6431      52.0  5.817352   1.073059       558.0  2.547945     37.85   \n",
      "4  3.8462      52.0  6.281853   1.081081       565.0  2.181467     37.85   \n",
      "\n",
      "   Longitude  PRICE  \n",
      "0    -122.23  4.526  \n",
      "1    -122.22  3.585  \n",
      "2    -122.24  3.521  \n",
      "3    -122.25  3.413  \n",
      "4    -122.25  3.422  \n",
      "             MedInc      HouseAge      AveRooms     AveBedrms    Population  \\\n",
      "count  20640.000000  20640.000000  20640.000000  20640.000000  20640.000000   \n",
      "mean       3.870671     28.639486      5.429000      1.096675   1425.476744   \n",
      "std        1.899822     12.585558      2.474173      0.473911   1132.462122   \n",
      "min        0.499900      1.000000      0.846154      0.333333      3.000000   \n",
      "25%        2.563400     18.000000      4.440716      1.006079    787.000000   \n",
      "50%        3.534800     29.000000      5.229129      1.048780   1166.000000   \n",
      "75%        4.743250     37.000000      6.052381      1.099526   1725.000000   \n",
      "max       15.000100     52.000000    141.909091     34.066667  35682.000000   \n",
      "\n",
      "           AveOccup      Latitude     Longitude         PRICE  \n",
      "count  20640.000000  20640.000000  20640.000000  20640.000000  \n",
      "mean       3.070655     35.631861   -119.569704      2.068558  \n",
      "std       10.386050      2.135952      2.003532      1.153956  \n",
      "min        0.692308     32.540000   -124.350000      0.149990  \n",
      "25%        2.429741     33.930000   -121.800000      1.196000  \n",
      "50%        2.818116     34.260000   -118.490000      1.797000  \n",
      "75%        3.282261     37.710000   -118.010000      2.647250  \n",
      "max     1243.333333     41.950000   -114.310000      5.000010  \n",
      "MedInc        0\n",
      "HouseAge      0\n",
      "AveRooms      0\n",
      "AveBedrms     0\n",
      "Population    0\n",
      "AveOccup      0\n",
      "Latitude      0\n",
      "Longitude     0\n",
      "PRICE         0\n",
      "dtype: int64\n"
     ]
    }
   ],
   "source": [
    "import pandas as pd\n",
    "import numpy as np\n",
    "\n",
    "# Fetch the California housing dataset instead\n",
    "from sklearn.datasets import fetch_california_housing\n",
    "housing = fetch_california_housing()\n",
    "\n",
    "# Convert to DataFrame (adjust column names accordingly)\n",
    "df = pd.DataFrame(data=housing.data, columns=housing.feature_names)\n",
    "df['PRICE'] = housing.target  # Or appropriate target column name\n",
    "\n",
    "# Continue with your analysis...\n",
    "print(df.info())\n",
    "print(df.head())\n",
    "print(df.describe())\n",
    "print(df.isnull().sum())"
   ]
  },
  {
   "cell_type": "code",
   "execution_count": 19,
   "id": "60ec3b21-19bd-4f3c-a7f6-9e6e9c80bad2",
   "metadata": {},
   "outputs": [
    {
     "name": "stdout",
     "output_type": "stream",
     "text": [
      "\n",
      "Scaled feature means:\n",
      "[ 6.60969987e-17  5.50808322e-18  6.60969987e-17 -1.06030602e-16\n",
      " -1.10161664e-17  3.44255201e-18 -1.07958431e-15 -8.52651283e-15]\n",
      "\n",
      "Scaled feature variances:\n",
      "[1. 1. 1. 1. 1. 1. 1. 1.]\n"
     ]
    }
   ],
   "source": [
    "from sklearn.preprocessing import StandardScaler\n",
    "\n",
    "# Features and target variable\n",
    "X = df.drop('PRICE', axis=1)\n",
    "y = df['PRICE']\n",
    "\n",
    "# Standardize the features\n",
    "scaler = StandardScaler()\n",
    "X_scaled = scaler.fit_transform(X)\n",
    "\n",
    "# Display scaled feature means and variances\n",
    "print(\"\\nScaled feature means:\")\n",
    "print(np.mean(X_scaled, axis=0))\n",
    "print(\"\\nScaled feature variances:\")\n",
    "print(np.var(X_scaled, axis=0))\n"
   ]
  },
  {
   "cell_type": "code",
   "execution_count": 21,
   "id": "fa3e5fdf-0488-446d-b262-4dba1dc3cb3d",
   "metadata": {},
   "outputs": [
    {
     "name": "stdout",
     "output_type": "stream",
     "text": [
      "\n",
      "Training set shape: (16512, 8)\n",
      "Testing set shape: (4128, 8)\n"
     ]
    }
   ],
   "source": [
    "from sklearn.model_selection import train_test_split\n",
    "\n",
    "# Split the data into training and testing sets\n",
    "X_train, X_test, y_train, y_test = train_test_split(X_scaled, y, test_size=0.2, random_state=42)\n",
    "\n",
    "# Display shapes of the splits\n",
    "print(f\"\\nTraining set shape: {X_train.shape}\")\n",
    "print(f\"Testing set shape: {X_test.shape}\")\n"
   ]
  },
  {
   "cell_type": "code",
   "execution_count": null,
   "id": "f51d4fe4-a215-4fee-bfa3-d703342a20be",
   "metadata": {},
   "outputs": [],
   "source": []
  }
 ],
 "metadata": {
  "kernelspec": {
   "display_name": "Python 3 (ipykernel)",
   "language": "python",
   "name": "python3"
  },
  "language_info": {
   "codemirror_mode": {
    "name": "ipython",
    "version": 3
   },
   "file_extension": ".py",
   "mimetype": "text/x-python",
   "name": "python",
   "nbconvert_exporter": "python",
   "pygments_lexer": "ipython3",
   "version": "3.12.4"
  }
 },
 "nbformat": 4,
 "nbformat_minor": 5
}
