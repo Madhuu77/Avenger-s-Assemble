{
 "cells": [
  {
   "cell_type": "code",
   "execution_count": 3,
   "id": "b320279e-128a-4037-ae65-a1f71d768cac",
   "metadata": {},
   "outputs": [
    {
     "name": "stdout",
     "output_type": "stream",
     "text": [
      "        Name  Marks\n",
      "0      Madhu    NaN\n",
      "1    Kishore   15.0\n",
      "2    Diwakar   40.0\n",
      "3  Yashvanth   99.0\n",
      "4    Avinash   66.0\n",
      "5   Shreyank   44.0\n",
      "6        sai   40.0\n",
      "7   Material  100.0\n"
     ]
    }
   ],
   "source": [
    "import pandas as pd\n",
    "df=pd.read_csv(\"C:/Users/91861/Documents/marks1.csv\")\n",
    "print(df)"
   ]
  },
  {
   "cell_type": "code",
   "execution_count": 5,
   "id": "6df55ee1-8e2f-4761-965d-3d8f4d913366",
   "metadata": {},
   "outputs": [
    {
     "name": "stdout",
     "output_type": "stream",
     "text": [
      "<bound method DataFrame.info of         Name  Marks\n",
      "0      Madhu    NaN\n",
      "1    Kishore   15.0\n",
      "2    Diwakar   40.0\n",
      "3  Yashvanth   99.0\n",
      "4    Avinash   66.0\n",
      "5   Shreyank   44.0\n",
      "6        sai   40.0\n",
      "7   Material  100.0>\n"
     ]
    }
   ],
   "source": [
    "print(df.info)"
   ]
  },
  {
   "cell_type": "code",
   "execution_count": 7,
   "id": "b6ef8d76-9009-492a-a8b1-101ea8e7ba1e",
   "metadata": {},
   "outputs": [
    {
     "name": "stdout",
     "output_type": "stream",
     "text": [
      "Average or Mean of Marks column: 57.714285714285715\n"
     ]
    }
   ],
   "source": [
    "print(\"Average or Mean of Marks column:\",df['Marks'].mean())"
   ]
  },
  {
   "cell_type": "code",
   "execution_count": 9,
   "id": "f1960ed5-cf1e-46d8-b342-5f602cb1489e",
   "metadata": {},
   "outputs": [
    {
     "name": "stdout",
     "output_type": "stream",
     "text": [
      "0     57.714286\n",
      "1     15.000000\n",
      "2     40.000000\n",
      "3     99.000000\n",
      "4     66.000000\n",
      "5     44.000000\n",
      "6     40.000000\n",
      "7    100.000000\n",
      "Name: Marks, dtype: float64\n"
     ]
    }
   ],
   "source": [
    "replacing_mean=df['Marks'].fillna(df['Marks'].mean())\n",
    "print(replacing_mean)"
   ]
  },
  {
   "cell_type": "code",
   "execution_count": 19,
   "id": "ad87d473-d682-423f-9023-9c93849a5baa",
   "metadata": {},
   "outputs": [
    {
     "name": "stdout",
     "output_type": "stream",
     "text": [
      "0     40.0\n",
      "1     15.0\n",
      "2     40.0\n",
      "3     99.0\n",
      "4     66.0\n",
      "5     44.0\n",
      "6     40.0\n",
      "7    100.0\n",
      "Name: Marks, dtype: float64\n"
     ]
    }
   ],
   "source": [
    "replacing_mode=df['Marks'].fillna(df['Marks'].mode())\n",
    "print(replacing_mode)\n",
    "#print(df['Marks'].mode())"
   ]
  },
  {
   "cell_type": "code",
   "execution_count": 27,
   "id": "aae2ba41-d9c7-4f81-b589-79b5aafd22d9",
   "metadata": {},
   "outputs": [
    {
     "name": "stdout",
     "output_type": "stream",
     "text": [
      "0     44.0\n",
      "1     15.0\n",
      "2     40.0\n",
      "3     99.0\n",
      "4     66.0\n",
      "5     44.0\n",
      "6     40.0\n",
      "7    100.0\n",
      "Name: Marks, dtype: float64\n"
     ]
    }
   ],
   "source": [
    "#print(df['Marks'].median())\n",
    "median=df['Marks'].median()\n",
    "replacing_median=df['Marks'].fillna(median)\n",
    "print(replacing_median)"
   ]
  },
  {
   "cell_type": "code",
   "execution_count": null,
   "id": "eb22cf06-009c-43b0-8ddc-539361e14e75",
   "metadata": {},
   "outputs": [],
   "source": []
  }
 ],
 "metadata": {
  "kernelspec": {
   "display_name": "Python 3 (ipykernel)",
   "language": "python",
   "name": "python3"
  },
  "language_info": {
   "codemirror_mode": {
    "name": "ipython",
    "version": 3
   },
   "file_extension": ".py",
   "mimetype": "text/x-python",
   "name": "python",
   "nbconvert_exporter": "python",
   "pygments_lexer": "ipython3",
   "version": "3.12.4"
  }
 },
 "nbformat": 4,
 "nbformat_minor": 5
}
